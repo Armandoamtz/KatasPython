{
 "cells": [
  {
   "cell_type": "markdown",
   "metadata": {},
   "source": [
    "# Uso de funciones en Python"
   ]
  },
  {
   "cell_type": "markdown",
   "metadata": {},
   "source": [
    "### Trabajar con argumentos en funciones"
   ]
  },
  {
   "cell_type": "code",
   "execution_count": 10,
   "metadata": {},
   "outputs": [],
   "source": [
    "def informe(tank1, tan2, tank3):\n",
    "    promedio = (tank1 + tan2 + tank3) / 3\n",
    "    return f\"\"\"Informe compreto:\n",
    "    Promedo total: {promedio}%\n",
    "    Tanque principal: {tank1}%\n",
    "    Tanque externo: {tan2}%\n",
    "    Tanque de reserva: {tank3}\"\"\""
   ]
  },
  {
   "cell_type": "markdown",
   "metadata": {},
   "source": [
    "### Llamamos a la función que genera el reporte"
   ]
  },
  {
   "cell_type": "code",
   "execution_count": 11,
   "metadata": {},
   "outputs": [
    {
     "name": "stdout",
     "output_type": "stream",
     "text": [
      "Informe compreto:\n",
      "    Promedo total: 75.0%\n",
      "    Tanque principal: 55%\n",
      "    Tanque externo: 80%\n",
      "    Tanque de reserva: 90\n"
     ]
    }
   ],
   "source": [
    "print(informe(55,80,90))"
   ]
  },
  {
   "cell_type": "markdown",
   "metadata": {},
   "source": [
    "### Función promedio "
   ]
  },
  {
   "cell_type": "code",
   "execution_count": 12,
   "metadata": {},
   "outputs": [],
   "source": [
    "def promedio(valor):\n",
    "    total = sum(valor)\n",
    "    numeroItems = len(valor)\n",
    "    return total /numeroItems"
   ]
  },
  {
   "cell_type": "markdown",
   "metadata": {},
   "source": [
    "### Actualizando la función de informes"
   ]
  },
  {
   "cell_type": "code",
   "execution_count": 13,
   "metadata": {},
   "outputs": [],
   "source": [
    "def informe(tank1, tank2, tank3):\n",
    "    return f\"\"\"Informe completa:\n",
    "    Promedio total: {promedio([tank1, tank2, tank3])}%\n",
    "    Tanque principal: {tank1}%\n",
    "    Tanque externo: {tank2}%\n",
    "    Tanque de reserva: {tank3}%\"\"\""
   ]
  },
  {
   "cell_type": "markdown",
   "metadata": {},
   "source": [
    "### Llamando a la funcion con valores diferentes"
   ]
  },
  {
   "cell_type": "code",
   "execution_count": 14,
   "metadata": {},
   "outputs": [
    {
     "name": "stdout",
     "output_type": "stream",
     "text": [
      "Informe completa:\n",
      "    Promedio total: 29.333333333333332%\n",
      "    Tanque principal: 20%\n",
      "    Tanque externo: 45%\n",
      "    Tanque de reserva: 23%\n"
     ]
    }
   ],
   "source": [
    "print(informe(20, 45, 23))"
   ]
  },
  {
   "cell_type": "markdown",
   "metadata": {},
   "source": [
    "# Trabajo con argumentos de palabra clave"
   ]
  },
  {
   "cell_type": "markdown",
   "metadata": {},
   "source": [
    "### Trabajar con argumentos de palabras clave en funciones"
   ]
  },
  {
   "cell_type": "code",
   "execution_count": 15,
   "metadata": {},
   "outputs": [],
   "source": [
    "def reporte(preLanzamiento, tiempoVuelo, destino, external_tank, main_tank):\n",
    "    return f\"\"\"\n",
    "    Mision a: {destino}\n",
    "    Tiempo total de vuelo: {preLanzamiento + tiempoVuelo} minutos\n",
    "    Combustible total: {external_tank + main_tank} galones\n",
    "    \"\"\" "
   ]
  },
  {
   "cell_type": "code",
   "execution_count": 16,
   "metadata": {},
   "outputs": [
    {
     "name": "stdout",
     "output_type": "stream",
     "text": [
      "\n",
      "    Mision a: Marte\n",
      "    Tiempo total de vuelo: 101950 minutos\n",
      "    Combustible total: 7000000 galones\n",
      "    \n"
     ]
    }
   ],
   "source": [
    "print(reporte(1050, 100900, 'Marte', 2000000, 5000000))"
   ]
  },
  {
   "cell_type": "markdown",
   "metadata": {},
   "source": [
    "### Nuevo reporte considerando lo anterior"
   ]
  },
  {
   "cell_type": "code",
   "execution_count": 17,
   "metadata": {},
   "outputs": [],
   "source": [
    "def reporteMision(destino, *minutes, **fuel_reservoirs):\n",
    "    main_report = f\"\"\"\n",
    "    Mision a: {destino}\n",
    "    Tiempo total del vuelo: {sum(minutes)} minutos\n",
    "    Combustible total: {sum(fuel_reservoirs.values())}\n",
    "    \"\"\"\n",
    "    for nombreTanque, galones in fuel_reservoirs.items():\n",
    "        main_report += f\"Tanque {nombreTanque} --> {galones} galones\\n\"\n",
    "    return main_report"
   ]
  },
  {
   "cell_type": "code",
   "execution_count": 18,
   "metadata": {},
   "outputs": [
    {
     "name": "stdout",
     "output_type": "stream",
     "text": [
      "\n",
      "    Mision a: Marte\n",
      "    Tiempo total del vuelo: 74 minutos\n",
      "    Combustible total: 9000000\n",
      "    Tanque principal --> 6000000 galones\n",
      "Tanque externo --> 3000000 galones\n",
      "\n"
     ]
    }
   ],
   "source": [
    "print(reporteMision(\"Marte\", 8, 11, 55, principal = 6000000, externo = 3000000))"
   ]
  }
 ],
 "metadata": {
  "interpreter": {
   "hash": "d1f07b9c67663b62d4f59b2a1c125f7653fb7637a1842549f90afbf4c14aa09c"
  },
  "kernelspec": {
   "display_name": "Python 3.10.2 64-bit",
   "language": "python",
   "name": "python3"
  },
  "language_info": {
   "codemirror_mode": {
    "name": "ipython",
    "version": 3
   },
   "file_extension": ".py",
   "mimetype": "text/x-python",
   "name": "python",
   "nbconvert_exporter": "python",
   "pygments_lexer": "ipython3",
   "version": "3.10.2"
  },
  "orig_nbformat": 4
 },
 "nbformat": 4,
 "nbformat_minor": 2
}
