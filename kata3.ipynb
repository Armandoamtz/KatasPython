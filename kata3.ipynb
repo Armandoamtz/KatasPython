{
 "cells": [
  {
   "cell_type": "markdown",
   "metadata": {},
   "source": [
    "# Velocidad del Asteroide"
   ]
  },
  {
   "cell_type": "code",
   "execution_count": 1,
   "metadata": {},
   "outputs": [
    {
     "name": "stdout",
     "output_type": "stream",
     "text": [
      "!Peligro¡ !Un asteroide se acerca a la tierra a una velocidad peligrosa.\n"
     ]
    }
   ],
   "source": [
    "velocidadAsteroide = 49\n",
    "\n",
    "if velocidadAsteroide > 25:\n",
    "    print(\"!Peligro¡ !Un asteroide se acerca a la tierra a una velocidad peligrosa.\")\n",
    "else:\n",
    "    print(\"La velocidad del asteroide nos es un peligro para la tierra.\")"
   ]
  },
  {
   "cell_type": "markdown",
   "metadata": {},
   "source": [
    "# Velocidad del Asteroide 2"
   ]
  },
  {
   "cell_type": "code",
   "execution_count": 2,
   "metadata": {},
   "outputs": [
    {
     "name": "stdout",
     "output_type": "stream",
     "text": [
      "Nada que ver aqui.\n"
     ]
    }
   ],
   "source": [
    "velocidadAsteroide_Dos = 19\n",
    "\n",
    "if velocidadAsteroide_Dos > 20:\n",
    "    print(\"Mira hacia arriba y veras un rayo de luz.\")\n",
    "elif velocidadAsteroide_Dos == 20:\n",
    "    print(\"Mira hacia arriba y veras un rayo de luz.\")\n",
    "else:\n",
    "    print(\"Nada que ver aqui.\")"
   ]
  },
  {
   "cell_type": "markdown",
   "metadata": {},
   "source": [
    "# Velocidad del Asteroide 3"
   ]
  },
  {
   "cell_type": "code",
   "execution_count": 3,
   "metadata": {},
   "outputs": [
    {
     "name": "stdout",
     "output_type": "stream",
     "text": [
      "Mira hacia arriba y veras un rayo de luz.\n"
     ]
    }
   ],
   "source": [
    "velocidadAsteroide_Tres = 25\n",
    "tamaño_Asteroide = 50\n",
    "\n",
    "if velocidadAsteroide_Tres > 25 and tamaño_Asteroide > 25:\n",
    "    print(\"!Peligro¡ Un asteroide se dirige hacia la tierra\")\n",
    "elif velocidadAsteroide_Tres >= 20:\n",
    "    print(\"Mira hacia arriba y veras un rayo de luz.\")\n",
    "elif tamaño_Asteroide < 25:\n",
    "    print(\"Nda que ver aqui.\")\n",
    "else:\n",
    "    print(\"Nda que ver aqui.\")"
   ]
  }
 ],
 "metadata": {
  "interpreter": {
   "hash": "d1f07b9c67663b62d4f59b2a1c125f7653fb7637a1842549f90afbf4c14aa09c"
  },
  "kernelspec": {
   "display_name": "Python 3.10.2 64-bit",
   "language": "python",
   "name": "python3"
  },
  "language_info": {
   "codemirror_mode": {
    "name": "ipython",
    "version": 3
   },
   "file_extension": ".py",
   "mimetype": "text/x-python",
   "name": "python",
   "nbconvert_exporter": "python",
   "pygments_lexer": "ipython3",
   "version": "3.10.2"
  },
  "orig_nbformat": 4
 },
 "nbformat": 4,
 "nbformat_minor": 2
}
